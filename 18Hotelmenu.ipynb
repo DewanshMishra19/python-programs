{
 "cells": [
  {
   "cell_type": "code",
   "execution_count": 1,
   "metadata": {},
   "outputs": [
    {
     "name": "stdout",
     "output_type": "stream",
     "text": [
      "Welcome to the Mishra resturant\n",
      "Pizza: Rs50\n",
      "Pasta:40\n",
      "Chhhola Samosa:30\n",
      "Manchurian:40\n",
      "Glass-coke:40\n",
      "Chawmine-full:50\n",
      "Burger:60\n",
      "Cheese Burger:80\n",
      "Coffee:40\n",
      "Tea:20\n",
      "Your item Pizza has been added to your order\n",
      "Item Coffee has been added to order\n",
      "The total amount of items to pay is 90\n"
     ]
    }
   ],
   "source": [
    "menu={\n",
    "    'Pizza':50,\n",
    "    'Pasta':40,\n",
    "    'Chhhola Samosa':30,\n",
    "    'Manchurian':40,\n",
    "    'Glass-coke':40,\n",
    "    'Chawmine-full':50,\n",
    "    'Burger':60,\n",
    "    'Cheese Burger':80,\n",
    "    'Coffee':40,\n",
    "    'Tea':20\n",
    "}\n",
    "#greet to the customer\n",
    "print(\"Welcome to the Mishra resturant\")\n",
    "print(\"Pizza: Rs50\\nPasta:40\\nChhhola Samosa:30\\nManchurian:40\\nGlass-coke:40\\nChawmine-full:50\\nBurger:60\\nCheese Burger:80\\nCoffee:40\\nTea:20\")\n",
    "\n",
    "order_total=0\n",
    "\n",
    "item_1=input(\"Enter the name of item you want to order=\")\n",
    "if item_1 in menu:\n",
    "    order_total+=menu[item_1]\n",
    "    print(f\"Your item {item_1} has been added to your order\")\n",
    "else:\n",
    "    print(\"Order item {item_1} is not available\")\n",
    "    \n",
    "another_order=input(\"Do you want to add another item? (yes/no)\")\n",
    "if another_order==\"yes\":\n",
    "    item_2=input(\"Enter the name of second item =\")\n",
    "    if item_2 in menu:\n",
    "        order_total+=menu[item_2]\n",
    "        print(f\"Item {item_2} has been added to order\")\n",
    "    else:\n",
    "        print(f\"Ordered item {item_2} is not available!\")\n",
    "\n",
    "print(f\"The total amount of items to pay is {order_total}\")"
   ]
  }
 ],
 "metadata": {
  "kernelspec": {
   "display_name": "base",
   "language": "python",
   "name": "python3"
  },
  "language_info": {
   "codemirror_mode": {
    "name": "ipython",
    "version": 3
   },
   "file_extension": ".py",
   "mimetype": "text/x-python",
   "name": "python",
   "nbconvert_exporter": "python",
   "pygments_lexer": "ipython3",
   "version": "3.12.2"
  }
 },
 "nbformat": 4,
 "nbformat_minor": 2
}
