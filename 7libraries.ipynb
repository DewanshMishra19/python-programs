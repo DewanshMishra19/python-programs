{
 "cells": [
  {
   "cell_type": "markdown",
   "metadata": {},
   "source": [
    "#libraries"
   ]
  },
  {
   "cell_type": "code",
   "execution_count": 22,
   "metadata": {},
   "outputs": [],
   "source": [
    "import math"
   ]
  },
  {
   "cell_type": "code",
   "execution_count": 23,
   "metadata": {},
   "outputs": [
    {
     "name": "stdout",
     "output_type": "stream",
     "text": [
      "3.605551275463989\n"
     ]
    }
   ],
   "source": [
    "print(math.sqrt(13))"
   ]
  },
  {
   "cell_type": "code",
   "execution_count": 24,
   "metadata": {},
   "outputs": [
    {
     "name": "stdout",
     "output_type": "stream",
     "text": [
      "87178291200\n",
      "2.0\n",
      "6.643856189774725\n",
      "6\n",
      "900\n",
      "3.141592653589793\n",
      "2.718281828459045\n",
      "0.0\n",
      "1.6197751905438615\n",
      "1.0\n",
      "-7.015252551434534\n"
     ]
    }
   ],
   "source": [
    "print(math.factorial(14))\n",
    "print(math.log(100,10))\n",
    "print(math.log(100,2))\n",
    "print(math.gcd(12,18,24,30))\n",
    "print(math.lcm(12,18,50))\n",
    "print(math.pi)\n",
    "print(math.e)\n",
    "print(math.sin(0))\n",
    "print(math.tan(45))\n",
    "print(math.cos(0))\n",
    "\n",
    "\n",
    "angle_radians=3\n",
    "cotangent=1/math.tan(angle_radians)\n",
    "print(cotangent)\n"
   ]
  },
  {
   "cell_type": "code",
   "execution_count": 25,
   "metadata": {},
   "outputs": [
    {
     "name": "stdout",
     "output_type": "stream",
     "text": [
      "50.26548245743669\n"
     ]
    }
   ],
   "source": [
    "import math\n",
    "r=4\n",
    "pie=math.pi\n",
    "print(pie*r*r)"
   ]
  },
  {
   "cell_type": "code",
   "execution_count": 26,
   "metadata": {},
   "outputs": [
    {
     "name": "stdout",
     "output_type": "stream",
     "text": [
      "6.283185307179586\n",
      "True\n",
      "4\n",
      "4.0\n",
      "27.0\n",
      "24.0\n"
     ]
    }
   ],
   "source": [
    "print(math.tau)\n",
    "print(math.inf>10e108)\n",
    "print(math.ceil(4.0))\n",
    "print(math.copysign(-4,6))\n",
    "print(math.pow(3,3))\n",
    "print(math.gamma(5))"
   ]
  },
  {
   "cell_type": "markdown",
   "metadata": {},
   "source": [
    "random library"
   ]
  },
  {
   "cell_type": "code",
   "execution_count": 27,
   "metadata": {},
   "outputs": [],
   "source": [
    "from random import random, randint, choice, shuffle"
   ]
  },
  {
   "cell_type": "code",
   "execution_count": 28,
   "metadata": {},
   "outputs": [
    {
     "name": "stdout",
     "output_type": "stream",
     "text": [
      "get a random number 0 and 1: 0.7785290306386919\n",
      "get a random number between 1 to 10: 10\n",
      "Select a random item: draw\n",
      "shuffle a list ['john', 'joe', 'jill', 'jane']\n"
     ]
    }
   ],
   "source": [
    "print(\"get a random number 0 and 1:\",random())\n",
    "print(\"get a random number between 1 to 10:\", randint(1,10))\n",
    "print(\"Select a random item:\",choice([\"win\",\"lose\",\"draw\"]))\n",
    "names=[\"john\",\"jane\",\"jill\",\"joe\"]\n",
    "shuffle(names)\n",
    "print(\"shuffle a list\",names)\n"
   ]
  },
  {
   "cell_type": "markdown",
   "metadata": {},
   "source": [
    "Date and Time"
   ]
  },
  {
   "cell_type": "code",
   "execution_count": 29,
   "metadata": {},
   "outputs": [],
   "source": [
    "from datetime import datetime as dt\n"
   ]
  },
  {
   "cell_type": "code",
   "execution_count": 30,
   "metadata": {},
   "outputs": [
    {
     "name": "stdout",
     "output_type": "stream",
     "text": [
      "current time:  2024-05-21 16:24:57.904245\n"
     ]
    }
   ],
   "source": [
    "print(\"current time: \",dt.now())"
   ]
  },
  {
   "cell_type": "code",
   "execution_count": 31,
   "metadata": {},
   "outputs": [
    {
     "name": "stdout",
     "output_type": "stream",
     "text": [
      "current date: 2024-05-21\n",
      "current time: 16:24:57.918384\n"
     ]
    }
   ],
   "source": [
    "print(\"current date:\", dt.now().date())\n",
    "print(\"current time:\", dt.now().time())"
   ]
  },
  {
   "cell_type": "code",
   "execution_count": 32,
   "metadata": {},
   "outputs": [
    {
     "name": "stdout",
     "output_type": "stream",
     "text": [
      "current year: 2024\n",
      "current month: 5\n",
      "current day: 21\n",
      "current hours: 16\n",
      "current minute: 24\n",
      "current second: 57\n"
     ]
    }
   ],
   "source": [
    "print(\"current year:\",dt.now().year)\n",
    "print(\"current month:\",dt.now().month)\n",
    "print(\"current day:\",dt.now().day)\n",
    "print(\"current hours:\",dt.now().hour)\n",
    "print(\"current minute:\",dt.now().minute)\n",
    "print(\"current second:\", dt.now().second)"
   ]
  },
  {
   "cell_type": "code",
   "execution_count": 33,
   "metadata": {},
   "outputs": [
    {
     "name": "stdout",
     "output_type": "stream",
     "text": [
      "formatted date: 21/05/24\n"
     ]
    }
   ],
   "source": [
    "date= dt.strftime(dt.now(), \"%d/%m/%y\")\n",
    "print(\"formatted date:\",date)"
   ]
  },
  {
   "cell_type": "code",
   "execution_count": 34,
   "metadata": {},
   "outputs": [
    {
     "name": "stdout",
     "output_type": "stream",
     "text": [
      "formatted time: 16:24:57\n"
     ]
    }
   ],
   "source": [
    "time = dt.strftime(dt.now(), \"%H:%M:%S\")\n",
    "print('formatted time:',time)"
   ]
  },
  {
   "cell_type": "markdown",
   "metadata": {},
   "source": [
    "OS library"
   ]
  },
  {
   "cell_type": "code",
   "execution_count": 35,
   "metadata": {},
   "outputs": [
    {
     "name": "stdout",
     "output_type": "stream",
     "text": [
      "current folder c:\\Users\\methe\\OneDrive\\Attachments\\Desktop\\pyda-30\n"
     ]
    }
   ],
   "source": [
    "import os #to know about folders,files or directorries\n",
    "\n",
    "print(\"current folder\",os.getcwd())  #current working directories\n"
   ]
  },
  {
   "cell_type": "code",
   "execution_count": 36,
   "metadata": {},
   "outputs": [
    {
     "name": "stdout",
     "output_type": "stream",
     "text": [
      "['.git', 'funtions.ipynb', 'index.ipynb', 'indexingandslicing.ipynb', 'libraries.ipynb', 'listcomprihension.ipynb', 'quiz.ipynb', 'string.ipynb']\n"
     ]
    }
   ],
   "source": [
    "file=os.listdir()\n",
    "print(file)"
   ]
  },
  {
   "cell_type": "code",
   "execution_count": 37,
   "metadata": {},
   "outputs": [
    {
     "name": "stdout",
     "output_type": "stream",
     "text": [
      "8\n"
     ]
    }
   ],
   "source": [
    "print(len(file))"
   ]
  },
  {
   "cell_type": "code",
   "execution_count": 38,
   "metadata": {},
   "outputs": [
    {
     "data": {
      "text/plain": [
       "<generator object walk at 0x0000022A20186150>"
      ]
     },
     "execution_count": 38,
     "metadata": {},
     "output_type": "execute_result"
    }
   ],
   "source": [
    "os.walk('C:')   #walk through folders and files"
   ]
  },
  {
   "cell_type": "code",
   "execution_count": 39,
   "metadata": {},
   "outputs": [
    {
     "name": "stdout",
     "output_type": "stream",
     "text": [
      "Total files: 0\n"
     ]
    }
   ],
   "source": [
    "total_files=0\n",
    "for path, folders, files in os.walk(r\"C:\\Users\\methe\\Downloads\\API_IC.ELC.TIME_DS2_en_excel_v2_43756.xls\"):\n",
    "    print('=>',path)\n",
    "    print(\"📁\", folders)\n",
    "    print(\"🗄️\", file)\n",
    "    total_files+=len(files)\n",
    "print(\"Total files:\",total_files)"
   ]
  },
  {
   "cell_type": "code",
   "execution_count": 48,
   "metadata": {},
   "outputs": [
    {
     "name": "stdout",
     "output_type": "stream",
     "text": [
      "file exist\n"
     ]
    }
   ],
   "source": [
    "files = r\"C:\\Users\\methe\\OneDrive\\Documents\\dewansh practical.R2\"\n",
    "if os.path.exists(files):\n",
    "    print(\"file exist\")"
   ]
  }
 ],
 "metadata": {
  "kernelspec": {
   "display_name": "base",
   "language": "python",
   "name": "python3"
  },
  "language_info": {
   "codemirror_mode": {
    "name": "ipython",
    "version": 3
   },
   "file_extension": ".py",
   "mimetype": "text/x-python",
   "name": "python",
   "nbconvert_exporter": "python",
   "pygments_lexer": "ipython3",
   "version": "3.12.2"
  }
 },
 "nbformat": 4,
 "nbformat_minor": 2
}
