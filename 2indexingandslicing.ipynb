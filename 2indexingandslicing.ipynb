{
 "cells": [
  {
   "cell_type": "code",
   "execution_count": 2,
   "metadata": {},
   "outputs": [
    {
     "name": "stdout",
     "output_type": "stream",
     "text": [
      "[4]\n",
      "11\n",
      "27\n"
     ]
    }
   ],
   "source": [
    "a=[2,3,4,5,6,7,8,9,10,11,12,13,14,15,16,17,18,19,20,21,22,23,24,25,26,27,28,29,30]\n",
    "print([4])\n",
    "print(a[9])\n",
    "print(a[-4])\n"
   ]
  },
  {
   "cell_type": "code",
   "execution_count": 3,
   "metadata": {},
   "outputs": [
    {
     "name": "stdout",
     "output_type": "stream",
     "text": [
      "['google', 'chrome', 'ludo', 'snapchat', 'instagram', 'whatsapp', 'files', 'flipkart', 'edge', 'editphoto', 'adobe', 'googlepay', 'hike', 'gmail', 'phonepay', 'amazon', 'firefox', 'opera', 'pubg', 'googlephotos', 'youtube', 'messenger', 'facebook', 'X', 'hotstar', 'jiocinema', 'jiostore', 'drive', \"domino's\", 'foodpanda', 'swiggy', 'zomato', 'rapido', 'uber', 'ola', 'contacts', 'clock', 'calender', 'textbook', 'slideshare', 'settings', 'sonyliv', 'chess', 'pi', 'chrome']\n"
     ]
    }
   ],
   "source": [
    "apps=[\"google\",\"chrome\",\"ludo\",\"snapchat\",\"instagram\",\"whatsapp\",\"files\",\"flipkart\",\"edge\",\"editphoto\",\"adobe\",\"googlepay\",\"hike\",\"gmail\",\"phonepay\",\"amazon\",\"firefox\",\"opera\",\"pubg\",\"googlephotos\",\"youtube\",\"messenger\",\"facebook\",\"X\",\"hotstar\",\"jiocinema\",\"jiostore\",\"drive\",\"domino's\",\"foodpanda\",\"swiggy\",\"zomato\",\"rapido\",\"uber\",\"ola\",\"contacts\",\"clock\",\"calender\",\"textbook\",\"slideshare\",\"settings\",\"sonyliv\",\"chess\",\"pi\",\"chrome\"]\n",
    "print(apps)"
   ]
  },
  {
   "cell_type": "code",
   "execution_count": 4,
   "metadata": {},
   "outputs": [
    {
     "name": "stdout",
     "output_type": "stream",
     "text": [
      "facebook\n"
     ]
    }
   ],
   "source": [
    "print(apps[22])"
   ]
  },
  {
   "cell_type": "code",
   "execution_count": 5,
   "metadata": {},
   "outputs": [
    {
     "name": "stdout",
     "output_type": "stream",
     "text": [
      "uber\n"
     ]
    }
   ],
   "source": [
    "print(apps[-12])"
   ]
  },
  {
   "cell_type": "markdown",
   "metadata": {},
   "source": [
    "Slicing"
   ]
  },
  {
   "cell_type": "code",
   "execution_count": 6,
   "metadata": {},
   "outputs": [
    {
     "name": "stdout",
     "output_type": "stream",
     "text": [
      "['adobe', 'googlepay', 'hike', 'gmail', 'phonepay', 'amazon', 'firefox', 'opera', 'pubg', 'googlephotos', 'youtube', 'messenger', 'facebook', 'X', 'hotstar', 'jiocinema', 'jiostore', 'drive', \"domino's\", 'foodpanda']\n"
     ]
    }
   ],
   "source": [
    "print(apps[10:30])     #always add -1 value from the last index which is mention like 29 will be added"
   ]
  },
  {
   "cell_type": "code",
   "execution_count": 7,
   "metadata": {},
   "outputs": [
    {
     "name": "stdout",
     "output_type": "stream",
     "text": [
      "['whatsapp', 'edge', 'googlepay', 'phonepay', 'opera', 'youtube', 'X', 'jiostore', 'foodpanda', 'rapido']\n"
     ]
    }
   ],
   "source": [
    "print(apps[5:33:3])"
   ]
  },
  {
   "cell_type": "code",
   "execution_count": 8,
   "metadata": {},
   "outputs": [
    {
     "name": "stdout",
     "output_type": "stream",
     "text": [
      "['facebook', 'X', 'hotstar', 'jiocinema', 'jiostore', 'drive', \"domino's\", 'foodpanda', 'swiggy', 'zomato', 'rapido', 'uber', 'ola', 'contacts', 'clock', 'calender', 'textbook', 'slideshare', 'settings', 'sonyliv', 'chess', 'pi', 'chrome']\n"
     ]
    }
   ],
   "source": [
    "print(apps[22:])    # blank space represent to take the values carried upto last"
   ]
  },
  {
   "cell_type": "code",
   "execution_count": 9,
   "metadata": {},
   "outputs": [
    {
     "name": "stdout",
     "output_type": "stream",
     "text": [
      "['google', 'chrome', 'ludo', 'snapchat', 'instagram', 'whatsapp', 'files', 'flipkart', 'edge', 'editphoto', 'adobe']\n"
     ]
    }
   ],
   "source": [
    "print(apps[:11])"
   ]
  },
  {
   "cell_type": "code",
   "execution_count": 10,
   "metadata": {},
   "outputs": [
    {
     "name": "stdout",
     "output_type": "stream",
     "text": [
      "['swiggy', 'zomato', 'rapido', 'uber']\n"
     ]
    }
   ],
   "source": [
    "print(apps[-15:-11])"
   ]
  },
  {
   "cell_type": "code",
   "execution_count": 11,
   "metadata": {},
   "outputs": [
    {
     "name": "stdout",
     "output_type": "stream",
     "text": [
      "['youtube', 'messenger', 'facebook', 'X', 'hotstar', 'jiocinema', 'jiostore', 'drive', \"domino's\", 'foodpanda', 'swiggy', 'zomato', 'rapido', 'uber', 'ola', 'contacts', 'clock', 'calender', 'textbook', 'slideshare', 'settings', 'sonyliv']\n"
     ]
    }
   ],
   "source": [
    "print(apps[20:-3])"
   ]
  },
  {
   "cell_type": "code",
   "execution_count": 12,
   "metadata": {},
   "outputs": [
    {
     "name": "stdout",
     "output_type": "stream",
     "text": [
      "[]\n"
     ]
    }
   ],
   "source": [
    "print(apps[-3:-6])   #it will give a blank space"
   ]
  },
  {
   "cell_type": "code",
   "execution_count": 13,
   "metadata": {},
   "outputs": [
    {
     "name": "stdout",
     "output_type": "stream",
     "text": [
      "['google', 'chrome', 'ludo', 'snapchat', 'instagram', 'whatsapp', 'files', 'gunpoint', 'edge', 'editphoto', 'adobe', 'googlepay', 'hike', 'gmail', 'phonepay', 'amazon', 'firefox', 'opera', 'pubg', 'googlephotos', 'youtube', 'messenger', 'facebook', 'X', 'hotstar', 'jiocinema', 'jiostore', 'drive', \"domino's\", 'foodpanda', 'swiggy', 'zomato', 'rapido', 'uber', 'ola', 'contacts', 'clock', 'calender', 'textbook', 'slideshare', 'settings', 'sonyliv', 'chess', 'pi', 'chrome']\n"
     ]
    }
   ],
   "source": [
    "apps[7]=\"gunpoint\"    #it replace a new value with old one\n",
    "print(apps)"
   ]
  },
  {
   "cell_type": "code",
   "execution_count": 14,
   "metadata": {},
   "outputs": [
    {
     "name": "stdout",
     "output_type": "stream",
     "text": [
      "45\n"
     ]
    }
   ],
   "source": [
    "print(len(apps))"
   ]
  },
  {
   "cell_type": "code",
   "execution_count": 15,
   "metadata": {},
   "outputs": [
    {
     "name": "stdout",
     "output_type": "stream",
     "text": [
      "['google', 'chrome', 'ludo', 'snapchat', 'instagram', 'whatsapp', 'files', 'gunpoint', 'edge', 'editphoto', 'adobe', 'googlepay', 'hike', 'gmail', 'phonepay', 'amazon', 'firefox', 'opera', 'pubg', 'googlephotos', 'youtube', 'messenger', 'facebook', 'X', 'hotstar', 'jiocinema', 'jiostore', 'drive', \"domino's\", 'foodpanda', 'swiggy', 'zomato', 'rapido', 'uber', 'ola', 'contacts', 'clock', 'calender', 'textbook', 'slideshare', 'settings', 'sonyliv', 'chess', 'pi', 'chrome', 'alibaba']\n"
     ]
    }
   ],
   "source": [
    "apps.append(\"alibaba\")\n",
    "print(apps)"
   ]
  },
  {
   "cell_type": "code",
   "execution_count": 16,
   "metadata": {},
   "outputs": [
    {
     "name": "stdout",
     "output_type": "stream",
     "text": [
      "['snakeandladder', 'google', 'chrome', 'ludo', 'snapchat', 'instagram', 'whatsapp', 'files', 'gunpoint', 'edge', 'editphoto', 'adobe', 'googlepay', 'hike', 'gmail', 'phonepay', 'amazon', 'firefox', 'opera', 'pubg', 'googlephotos', 'youtube', 'messenger', 'facebook', 'X', 'hotstar', 'jiocinema', 'jiostore', 'drive', \"domino's\", 'foodpanda', 'swiggy', 'zomato', 'rapido', 'uber', 'ola', 'contacts', 'clock', 'calender', 'textbook', 'slideshare', 'settings', 'sonyliv', 'chess', 'pi', 'chrome', 'alibaba']\n"
     ]
    }
   ],
   "source": [
    "apps.insert(0,\"snakeandladder\")\n",
    "print(apps)"
   ]
  },
  {
   "cell_type": "code",
   "execution_count": 17,
   "metadata": {},
   "outputs": [
    {
     "name": "stdout",
     "output_type": "stream",
     "text": [
      "['alibaba', 'chrome', 'pi', 'chess', 'sonyliv', 'settings', 'slideshare', 'textbook', 'calender', 'clock', 'contacts', 'ola', 'uber', 'rapido', 'zomato', 'swiggy', 'foodpanda', \"domino's\", 'drive', 'jiostore', 'jiocinema', 'hotstar', 'X', 'facebook', 'messenger', 'youtube', 'googlephotos', 'pubg', 'opera', 'firefox', 'amazon', 'phonepay', 'gmail', 'hike', 'googlepay', 'adobe', 'editphoto', 'edge', 'gunpoint', 'files', 'whatsapp', 'instagram', 'snapchat', 'ludo', 'chrome', 'google', 'snakeandladder']\n"
     ]
    }
   ],
   "source": [
    "apps.reverse()\n",
    "print(apps)"
   ]
  },
  {
   "cell_type": "code",
   "execution_count": 18,
   "metadata": {},
   "outputs": [
    {
     "name": "stdout",
     "output_type": "stream",
     "text": [
      "['alibaba', 'chrome', 'pi', 'chess', 'sonyliv', 'settings', 'slideshare', 'calender', 'clock', 'contacts', 'ola', 'uber', 'rapido', 'zomato', 'swiggy', 'foodpanda', \"domino's\", 'drive', 'jiostore', 'jiocinema', 'hotstar', 'X', 'facebook', 'messenger', 'youtube', 'googlephotos', 'pubg', 'opera', 'firefox', 'amazon', 'phonepay', 'gmail', 'hike', 'googlepay', 'adobe', 'editphoto', 'edge', 'gunpoint', 'files', 'whatsapp', 'instagram', 'snapchat', 'ludo', 'chrome', 'google', 'snakeandladder']\n"
     ]
    }
   ],
   "source": [
    "apps.pop(7)            #pop is for removing\n",
    "print(apps)"
   ]
  },
  {
   "cell_type": "code",
   "execution_count": 19,
   "metadata": {},
   "outputs": [
    {
     "name": "stdout",
     "output_type": "stream",
     "text": [
      "['alibaba', 'pi', 'chess', 'sonyliv', 'settings', 'slideshare', 'calender', 'clock', 'contacts', 'ola', 'uber', 'rapido', 'zomato', 'swiggy', 'foodpanda', \"domino's\", 'drive', 'jiostore', 'jiocinema', 'hotstar', 'X', 'facebook', 'messenger', 'youtube', 'googlephotos', 'pubg', 'opera', 'firefox', 'amazon', 'phonepay', 'gmail', 'hike', 'googlepay', 'adobe', 'editphoto', 'edge', 'gunpoint', 'files', 'whatsapp', 'instagram', 'snapchat', 'ludo', 'chrome', 'google', 'snakeandladder']\n"
     ]
    }
   ],
   "source": [
    "apps.remove('chrome')\n",
    "print(apps)"
   ]
  },
  {
   "cell_type": "code",
   "execution_count": 20,
   "metadata": {},
   "outputs": [
    {
     "name": "stdout",
     "output_type": "stream",
     "text": [
      "snakeandladder\n"
     ]
    }
   ],
   "source": [
    "print(apps[-1])"
   ]
  },
  {
   "cell_type": "code",
   "execution_count": 21,
   "metadata": {},
   "outputs": [
    {
     "name": "stdout",
     "output_type": "stream",
     "text": [
      "['X', 'adobe', 'alibaba', 'amazon', 'calender', 'chess', 'chrome', 'clock', 'contacts', \"domino's\", 'drive', 'edge', 'editphoto', 'facebook', 'files', 'firefox', 'foodpanda', 'gmail', 'google', 'googlepay', 'googlephotos', 'gunpoint', 'hike', 'hotstar', 'instagram', 'jiocinema', 'jiostore', 'ludo', 'messenger', 'ola', 'opera', 'phonepay', 'pi', 'pubg', 'rapido', 'settings', 'slideshare', 'snakeandladder', 'snapchat', 'sonyliv', 'swiggy', 'uber', 'whatsapp', 'youtube', 'zomato']\n"
     ]
    }
   ],
   "source": [
    "apps.sort()    #ascending or descending order by the alphabetical order\n",
    "print(apps)"
   ]
  },
  {
   "cell_type": "code",
   "execution_count": 22,
   "metadata": {},
   "outputs": [
    {
     "name": "stdout",
     "output_type": "stream",
     "text": [
      "['X', 'adobe', 'alibaba', 'amazon', 'calender', 'chess', 'chrome', 'clock', 'contacts', \"domino's\", 'drive', 'edge', 'editphoto', 'facebook', 'files', 'firefox', 'foodpanda', 'gmail', 'google', 'googlepay', 'googlephotos', 'gunpoint', 'hike', 'hotstar', 'instagram', 'jiocinema', 'jiostore', 'ludo', 'messenger', 'ola', 'opera', 'phonepay', 'pi', 'pubg', 'rapido', 'settings', 'slideshare', 'snakeandladder', 'snapchat', 'sonyliv', 'swiggy', 'uber', 'whatsapp', 'youtube', 'zomato']\n"
     ]
    }
   ],
   "source": [
    "x=apps.copy()\n",
    "print(x)"
   ]
  },
  {
   "cell_type": "code",
   "execution_count": 23,
   "metadata": {},
   "outputs": [
    {
     "name": "stdout",
     "output_type": "stream",
     "text": [
      "[]\n"
     ]
    }
   ],
   "source": [
    "x.clear()\n",
    "print(x)"
   ]
  },
  {
   "cell_type": "code",
   "execution_count": 24,
   "metadata": {},
   "outputs": [
    {
     "name": "stdout",
     "output_type": "stream",
     "text": [
      "1\n"
     ]
    }
   ],
   "source": [
    "ab=apps.count(\"chrome\")\n",
    "print(ab)"
   ]
  },
  {
   "cell_type": "code",
   "execution_count": 25,
   "metadata": {},
   "outputs": [
    {
     "name": "stdout",
     "output_type": "stream",
     "text": [
      "['nothing', 'xiomi', 'iphone', 'vivo', 'oppo', 'samsung', 'motorola', 'slice', 'micromax', 'lava', 'gionee', 'googlepixel', 'sony', 'nokia', 'jio']\n"
     ]
    }
   ],
   "source": [
    "mobile=[\"nothing\",\"xiomi\",\"iphone\",\"vivo\",\"oppo\",\"samsung\",\"motorola\",\"slice\",\"micromax\",\"lava\",\"gionee\",\"googlepixel\",\"sony\",\"nokia\",\"jio\"]\n",
    "print(mobile)"
   ]
  },
  {
   "cell_type": "code",
   "execution_count": 26,
   "metadata": {},
   "outputs": [
    {
     "name": "stdout",
     "output_type": "stream",
     "text": [
      "['X', 'adobe', 'alibaba', 'amazon', 'calender', 'chess', 'chrome', 'clock', 'contacts', \"domino's\", 'drive', 'edge', 'editphoto', 'facebook', 'files', 'firefox', 'foodpanda', 'gmail', 'google', 'googlepay', 'googlephotos', 'gunpoint', 'hike', 'hotstar', 'instagram', 'jiocinema', 'jiostore', 'ludo', 'messenger', 'ola', 'opera', 'phonepay', 'pi', 'pubg', 'rapido', 'settings', 'slideshare', 'snakeandladder', 'snapchat', 'sonyliv', 'swiggy', 'uber', 'whatsapp', 'youtube', 'zomato', 'nothing', 'xiomi', 'iphone', 'vivo', 'oppo', 'samsung', 'motorola', 'slice', 'micromax', 'lava', 'gionee', 'googlepixel', 'sony', 'nokia', 'jio']\n"
     ]
    }
   ],
   "source": [
    "apps.extend(mobile)\n",
    "print(apps)"
   ]
  },
  {
   "cell_type": "code",
   "execution_count": 27,
   "metadata": {},
   "outputs": [
    {
     "name": "stdout",
     "output_type": "stream",
     "text": [
      "zomato\n"
     ]
    }
   ],
   "source": [
    "print(max(apps))"
   ]
  },
  {
   "cell_type": "code",
   "execution_count": 32,
   "metadata": {},
   "outputs": [
    {
     "name": "stdout",
     "output_type": "stream",
     "text": [
      "None\n"
     ]
    }
   ],
   "source": [
    "list11=['hey','all','of','the','syllabus']\n",
    "print(list11.sort())"
   ]
  }
 ],
 "metadata": {
  "kernelspec": {
   "display_name": "base",
   "language": "python",
   "name": "python3"
  },
  "language_info": {
   "codemirror_mode": {
    "name": "ipython",
    "version": 3
   },
   "file_extension": ".py",
   "mimetype": "text/x-python",
   "name": "python",
   "nbconvert_exporter": "python",
   "pygments_lexer": "ipython3",
   "version": "3.12.2"
  }
 },
 "nbformat": 4,
 "nbformat_minor": 2
}
