{
 "cells": [
  {
   "cell_type": "markdown",
   "metadata": {},
   "source": [
    "# A simple test for the sake of learning some python"
   ]
  },
  {
   "cell_type": "markdown",
   "metadata": {},
   "source": [
    "### Question 1:\n",
    "Given a list `numbers = [1, 2, 3, 4, 5]`, write Python code to append the number 6 to the end of the list."
   ]
  },
  {
   "cell_type": "code",
   "execution_count": 1,
   "metadata": {},
   "outputs": [
    {
     "name": "stdout",
     "output_type": "stream",
     "text": [
      "[1, 2, 3, 4, 5, 6]\n"
     ]
    }
   ],
   "source": [
    "numbers=[1,2,3,4,5]\n",
    "numbers.append(6)\n",
    "print(numbers)"
   ]
  },
  {
   "cell_type": "markdown",
   "metadata": {},
   "source": [
    "### Question 2:\n",
    "Suppose you have a list `fruits = ['apple', 'banana', 'orange', 'grape']`. Write Python code to remove the element 'orange' from the list.\n"
   ]
  },
  {
   "cell_type": "code",
   "execution_count": 3,
   "metadata": {},
   "outputs": [
    {
     "name": "stdout",
     "output_type": "stream",
     "text": [
      "['apple', 'banana', 'grape']\n"
     ]
    }
   ],
   "source": [
    "fruits=['apple','banana','orange','grape']\n",
    "fruits.remove('orange')\n",
    "print(fruits)"
   ]
  },
  {
   "cell_type": "markdown",
   "metadata": {},
   "source": [
    "### Question 3:\n",
    "Write a Python code that takes a list of integers as input and returns a new list with only the even numbers from the original list."
   ]
  },
  {
   "cell_type": "code",
   "execution_count": 6,
   "metadata": {},
   "outputs": [
    {
     "name": "stdout",
     "output_type": "stream",
     "text": [
      "[2, 4, 6, 8]\n"
     ]
    }
   ],
   "source": [
    "list=[1,2,3,4,5,6,7,8]\n",
    "new_list=[x for x in list if x%2==0]\n",
    "print(new_list)"
   ]
  },
  {
   "cell_type": "markdown",
   "metadata": {},
   "source": [
    "### Question 4:\n",
    "Given two lists `list1 = [1, 2, 3]` and `list2 = [4, 5, 6]`, write Python code to combine these two lists and create a new list."
   ]
  },
  {
   "cell_type": "code",
   "execution_count": 8,
   "metadata": {},
   "outputs": [
    {
     "name": "stdout",
     "output_type": "stream",
     "text": [
      "[1, 2, 3, 4, 5, 6]\n"
     ]
    }
   ],
   "source": [
    "list1=[1,2,3]\n",
    "list2=[4,5,6]\n",
    "new_list1=list1+list2\n",
    "print(new_list1)"
   ]
  },
  {
   "cell_type": "markdown",
   "metadata": {},
   "source": [
    "### Question 5:\n",
    "Write a Python code that takes a list of strings as input and returns a new list containing only the strings with a length greater than 5."
   ]
  },
  {
   "cell_type": "code",
   "execution_count": 9,
   "metadata": {},
   "outputs": [
    {
     "name": "stdout",
     "output_type": "stream",
     "text": [
      "['generalized', 'areyou', 'always']\n"
     ]
    }
   ],
   "source": [
    "str1=[\"hello\",\"generalized\",\"areyou\",\"always\",\"since\"]\n",
    "new_str1=[x for x in str1 if len(x)>5]\n",
    "print(new_str1)"
   ]
  },
  {
   "cell_type": "markdown",
   "metadata": {},
   "source": [
    "### Question 6:\n",
    "Create a Python dictionary `student` with the following key-value pairs: 'name' set to 'John', 'age' set to 25, and 'major' set to 'Computer Science', and print it."
   ]
  },
  {
   "cell_type": "code",
   "execution_count": 10,
   "metadata": {},
   "outputs": [
    {
     "name": "stdout",
     "output_type": "stream",
     "text": [
      "{'name': 'Dewansh', 'age': 25, 'major': 'computer science'}\n"
     ]
    }
   ],
   "source": [
    "dict1={\"name\":\"Dewansh\",\"age\":25,\"major\":\"computer science\"}\n",
    "print(dict1)"
   ]
  },
  {
   "cell_type": "markdown",
   "metadata": {},
   "source": [
    "### Question 7:\n",
    "Given the following dictionary `inventory = {'apples': 10, 'bananas': 5, 'oranges': 8}`, write Python code to check if the key 'grapes' is present in the dictionary."
   ]
  },
  {
   "cell_type": "code",
   "execution_count": 6,
   "metadata": {},
   "outputs": [
    {
     "name": "stdout",
     "output_type": "stream",
     "text": [
      "it is not present\n"
     ]
    }
   ],
   "source": [
    "inventory = {'apples': 10, 'bananas': 5, 'oranges': 8}\n",
    "\n",
    "if ('grapes'==inventory):\n",
    "      print(\"it is present\")\n",
    "else:\n",
    "      print(\"it is not present\")"
   ]
  },
  {
   "cell_type": "markdown",
   "metadata": {},
   "source": [
    "### Question 8:\n",
    "Write a Python code that takes a dictionary of items and their prices as input and returns the item with the highest price."
   ]
  },
  {
   "cell_type": "code",
   "execution_count": 4,
   "metadata": {},
   "outputs": [
    {
     "name": "stdout",
     "output_type": "stream",
     "text": [
      "chocolate\n"
     ]
    }
   ],
   "source": [
    "items={'maggie':30,'chips':45,'chocolate':60}\n",
    "\n",
    "keymax=max(zip(items.values(), items.keys()))[1]\n",
    "print(keymax)"
   ]
  },
  {
   "cell_type": "code",
   "execution_count": 11,
   "metadata": {},
   "outputs": [
    {
     "name": "stdout",
     "output_type": "stream",
     "text": [
      "60\n"
     ]
    }
   ],
   "source": [
    "items={'maggie':30,'chips':45,'chocolate':60}\n",
    "maximum_value=max(items.values())\n",
    "print(maximum_value)"
   ]
  },
  {
   "cell_type": "code",
   "execution_count": 5,
   "metadata": {},
   "outputs": [
    {
     "name": "stdout",
     "output_type": "stream",
     "text": [
      "chips\n"
     ]
    }
   ],
   "source": [
    "items={'maggie':30,'chips':45,'chocolate':60}\n",
    "max_value=min(items.keys())\n",
    "print(max_value)"
   ]
  },
  {
   "cell_type": "markdown",
   "metadata": {},
   "source": [
    "### Question 9:\n",
    "Suppose you have a dictionary `contacts` containing contact information. Write Python code to remove the contact with the key 'John' from the dictionary.\n"
   ]
  },
  {
   "cell_type": "code",
   "execution_count": 9,
   "metadata": {},
   "outputs": [
    {
     "name": "stdout",
     "output_type": "stream",
     "text": [
      "{'dew': 7392880219, 'vipin': 7007342628, 'mommy': 6388488155}\n"
     ]
    }
   ],
   "source": [
    "contact={'dew':7392880219,'vipin':7007342628,'mommy':6388488155,'john':9260987268}\n",
    "del contact['john']\n",
    "print(contact)"
   ]
  },
  {
   "cell_type": "markdown",
   "metadata": {},
   "source": [
    "\n",
    "### Question 10:\n",
    "Write a Python code that takes a dictionary of words and their frequencies as input and returns a list of words sorted in alphabetical order."
   ]
  },
  {
   "cell_type": "code",
   "execution_count": 1,
   "metadata": {},
   "outputs": [
    {
     "name": "stdout",
     "output_type": "stream",
     "text": [
      "['age', 'major', 'name']\n"
     ]
    }
   ],
   "source": [
    "word={\"name\":\"Dewansh\",\"age\":25,\"major\":\"computer science\"}\n",
    "sorted_words=sorted(word.keys())\n",
    "print(sorted_words)\n"
   ]
  },
  {
   "cell_type": "markdown",
   "metadata": {},
   "source": [
    "### Question 11:\n",
    "How can you convert a string `sentence` to all uppercase letters in Python?"
   ]
  },
  {
   "cell_type": "code",
   "execution_count": 21,
   "metadata": {},
   "outputs": [
    {
     "name": "stdout",
     "output_type": "stream",
     "text": [
      "HEY, I AM DEWANSH\n"
     ]
    }
   ],
   "source": [
    "str=\"hey, i am dewansh\"\n",
    "print(str.upper())\n"
   ]
  },
  {
   "cell_type": "markdown",
   "metadata": {},
   "source": [
    "### Question 12:\n",
    "Given a string `email = \"john.doe@example.com\"`, write Python code to extract the domain name 'example.com' from the email."
   ]
  },
  {
   "cell_type": "code",
   "execution_count": 23,
   "metadata": {},
   "outputs": [
    {
     "name": "stdout",
     "output_type": "stream",
     "text": [
      "example.com\n"
     ]
    }
   ],
   "source": [
    "email=\"john.doe@example.com\"\n",
    "print(email[9:])"
   ]
  },
  {
   "cell_type": "markdown",
   "metadata": {},
   "source": [
    "### Question 13:\n",
    "Write a Python code that takes a string as input and returns a new string with all vowels replaced by the letter 'x'."
   ]
  },
  {
   "cell_type": "code",
   "execution_count": 8,
   "metadata": {},
   "outputs": [
    {
     "name": "stdout",
     "output_type": "stream",
     "text": [
      "hxllx x xm dxwxnsh mxshrx\n"
     ]
    }
   ],
   "source": [
    "str111=\"hello i am dewansh mishra\"\n",
    "b=str111.replace('a',\"x\").replace('e','x').replace('i','x').replace('o','x').replace('u','x')\n",
    "print(b)"
   ]
  },
  {
   "cell_type": "markdown",
   "metadata": {},
   "source": [
    "### Question 14:\n",
    "Suppose you have a string `sentence = \"Python programming is fun!\"`. Write Python code to count the number of words in the sentence."
   ]
  },
  {
   "cell_type": "code",
   "execution_count": 25,
   "metadata": {},
   "outputs": [
    {
     "name": "stdout",
     "output_type": "stream",
     "text": [
      "4\n"
     ]
    }
   ],
   "source": [
    "sentence = \"Python programming is fun!\"\n",
    "res = len(sentence.split())\n",
    "print(res)\n"
   ]
  },
  {
   "cell_type": "markdown",
   "metadata": {},
   "source": [
    "### Question 15:\n",
    "Write a Python code that takes a list of words and a character as input and returns a new list with only the words that start with the given character."
   ]
  },
  {
   "cell_type": "code",
   "execution_count": 9,
   "metadata": {},
   "outputs": [
    {
     "name": "stdout",
     "output_type": "stream",
     "text": [
      "['dewansh']\n"
     ]
    }
   ],
   "source": [
    "char=['hey', 'i',\"am\",\"dewansh\"]\n",
    "res=[x for x in char if x.startswith('d')]\n",
    "print(res)\n"
   ]
  },
  {
   "cell_type": "markdown",
   "metadata": {},
   "source": [
    "### Question 16:\n",
    "Write a Python code that takes a list of strings as input and returns a new list with the strings sorted in ascending order based on their lengths."
   ]
  },
  {
   "cell_type": "code",
   "execution_count": 12,
   "metadata": {},
   "outputs": [
    {
     "name": "stdout",
     "output_type": "stream",
     "text": [
      "['74', '88', 'Alice', 'Bob', 'Chaitanya', 'Charlie', 'David', 'rahul', 'sachin']\n"
     ]
    }
   ],
   "source": [
    "names = ['Alice', 'Bob', 'Charlie', 'David','rahul','sachin','74','88','Chaitanya']\n",
    "names.sort()\n",
    "print(names)"
   ]
  },
  {
   "cell_type": "markdown",
   "metadata": {},
   "source": [
    "### Question 17:\n",
    "Suppose you have a list `numbers = [3, 5, 1, 8, 2]`. Write Python code to find the sum of all the numbers in the list."
   ]
  },
  {
   "cell_type": "code",
   "execution_count": 2,
   "metadata": {},
   "outputs": [
    {
     "name": "stdout",
     "output_type": "stream",
     "text": [
      "19\n"
     ]
    }
   ],
   "source": [
    "\n",
    "num=[3,5,1,8,2]\n",
    "sum=0\n",
    "for i in num:\n",
    "    sum=sum+i\n",
    "print(sum)"
   ]
  },
  {
   "cell_type": "markdown",
   "metadata": {},
   "source": [
    "### Question 18:\n",
    "Given a list `names = ['Alice', 'Bob', 'Charlie', 'David']`, write Python code to create a new list with the names that contain the letter 'a'."
   ]
  },
  {
   "cell_type": "code",
   "execution_count": 8,
   "metadata": {},
   "outputs": [
    {
     "name": "stdout",
     "output_type": "stream",
     "text": [
      "['Charlie', 'David']\n"
     ]
    }
   ],
   "source": [
    "names = ['Alice', 'Bob', 'Charlie', 'David']\n",
    "char=\"a\"\n",
    "res=[x for x in names if char in x]\n",
    "print(res)\n",
    "\n"
   ]
  },
  {
   "cell_type": "markdown",
   "metadata": {},
   "source": [
    "### Question 19:\n",
    "Write a Python code that takes a list of integers as input and returns a new list with only the unique elements (remove duplicates) in the same order they appear in the original list."
   ]
  },
  {
   "cell_type": "code",
   "execution_count": 35,
   "metadata": {},
   "outputs": [
    {
     "name": "stdout",
     "output_type": "stream",
     "text": [
      "[1, 2, 66, 88, 3, 4, 5]\n"
     ]
    }
   ],
   "source": [
    "listA=[1,2,66,88,3,4,2,3,4,5,1,2,3]\n",
    "res=[i for n, i in enumerate(listA) if i not in listA[:n]]\n",
    "print(res)"
   ]
  },
  {
   "cell_type": "markdown",
   "metadata": {},
   "source": [
    "### Question 20:\n",
    "Suppose you have a list `words = ['hello', 'world']`. Write Python code to join the elements of the list into a single string separated by a space."
   ]
  },
  {
   "cell_type": "code",
   "execution_count": 41,
   "metadata": {},
   "outputs": [
    {
     "name": "stdout",
     "output_type": "stream",
     "text": [
      "hello world "
     ]
    }
   ],
   "source": [
    "words=['hello','world']\n",
    "for i in words:\n",
    "    print(i, end=\" \")"
   ]
  },
  {
   "cell_type": "markdown",
   "metadata": {},
   "source": [
    "### Question 21:\n",
    "Suppose you have a nested dictionary representing a person's contact information:\n",
    "```python\n",
    "contact_info = {\n",
    "    'name': 'John Doe',\n",
    "    'phone': {\n",
    "        'home': '123-456-7890',\n",
    "        'work': '987-654-3210'\n",
    "    },\n",
    "    'email': 'john.doe@example.com'\n",
    "}\n",
    "```\n",
    "Write Python code to extract John's home phone number from the dictionary."
   ]
  },
  {
   "cell_type": "code",
   "execution_count": 3,
   "metadata": {},
   "outputs": [
    {
     "name": "stdout",
     "output_type": "stream",
     "text": [
      "john phone number is: 123-456-7890\n"
     ]
    }
   ],
   "source": [
    "contact_info = {\n",
    "    'name': 'John Doe',\n",
    "    'phone': {\n",
    "        'home': '123-456-7890',\n",
    "        'work': '987-654-3210'\n",
    "    },\n",
    "    'email': 'john.doe@example.com'\n",
    "}\n",
    "john_home_number=contact_info['phone']['home']\n",
    "print(\"john phone number is:\",john_home_number)"
   ]
  },
  {
   "cell_type": "markdown",
   "metadata": {},
   "source": [
    "### Question 22:\n",
    "Write a Python code that takes a string as input and returns the number of words in the string."
   ]
  },
  {
   "cell_type": "code",
   "execution_count": 18,
   "metadata": {},
   "outputs": [
    {
     "name": "stdout",
     "output_type": "stream",
     "text": [
      "4\n"
     ]
    }
   ],
   "source": [
    "names = 'Alice Bob Charlie David'\n",
    "count1=names.split()\n",
    "word_count=len(count1)\n",
    "print(word_count)"
   ]
  },
  {
   "cell_type": "markdown",
   "metadata": {},
   "source": [
    "### Question 23:\n",
    "Write a Python code that takes a string as input and returns the string reversed."
   ]
  },
  {
   "cell_type": "code",
   "execution_count": 30,
   "metadata": {},
   "outputs": [
    {
     "name": "stdout",
     "output_type": "stream",
     "text": [
      "The original string is : dewansh mishra\n",
      "The reversed string(using loops) is : arhsim hsnawed\n"
     ]
    }
   ],
   "source": [
    "def reverse(s):\n",
    "    str = \"\"\n",
    "    for i in s:\n",
    "        str = i + str\n",
    "    return str\n",
    " \n",
    "s = \"dewansh mishra\"\n",
    " \n",
    "print(\"The original string is : \", end=\"\")\n",
    "print(s)\n",
    " \n",
    "print(\"The reversed string(using loops) is : \", end=\"\")\n",
    "print(reverse(s))\n"
   ]
  },
  {
   "cell_type": "code",
   "execution_count": 16,
   "metadata": {},
   "outputs": [
    {
     "name": "stdout",
     "output_type": "stream",
     "text": [
      "arhsim hsnawed ma i yeH\n"
     ]
    }
   ],
   "source": [
    "def reverse_string(string):\n",
    "    reversed_string= \"\"\n",
    "    \n",
    "    for char in reversed(string):\n",
    "        reversed_string+=char\n",
    "    \n",
    "    return reversed_string\n",
    "\n",
    "string=\"Hey i am dewansh mishra\"\n",
    "reversed_string=reverse_string(string)\n",
    "print(reversed_string)"
   ]
  },
  {
   "cell_type": "code",
   "execution_count": 15,
   "metadata": {},
   "outputs": [
    {
     "name": "stdout",
     "output_type": "stream",
     "text": [
      "arhsiM hsnaweD ma i olleh\n"
     ]
    }
   ],
   "source": [
    "def reverse_string(string):\n",
    "    reversed_string=\"\"\n",
    "    \n",
    "    for char in reversed(string):\n",
    "         reversed_string+=char\n",
    "         \n",
    "    return reversed_string\n",
    "string=\"hello i am Dewansh Mishra\"\n",
    "reversed_string=reverse_string(string)\n",
    "print(reversed_string)\n",
    "    "
   ]
  },
  {
   "cell_type": "markdown",
   "metadata": {},
   "source": [
    "### Question 24:\n",
    "Write a Python code that takes a dictionary of strings as input and returns a new dictionary with the strings sorted in alphabetical order based on their keys."
   ]
  },
  {
   "cell_type": "code",
   "execution_count": 29,
   "metadata": {},
   "outputs": [
    {
     "name": "stdout",
     "output_type": "stream",
     "text": [
      "{'age': 'ten', 'major': 'computer science', 'name': 'Dewansh'}\n"
     ]
    }
   ],
   "source": [
    "dict2={\"name\":\"Dewansh\",\"age\":\"ten\",\"major\":\"computer science\"}\n",
    "myKeys = list(dict2.keys())\n",
    "myKeys.sort()\n",
    "sorted_dict = {i: dict2[i] for i in myKeys}\n",
    "print(sorted_dict)"
   ]
  },
  {
   "cell_type": "code",
   "execution_count": 7,
   "metadata": {},
   "outputs": [
    {
     "name": "stdout",
     "output_type": "stream",
     "text": [
      "{'age': 'ten', 'major': 'computer science', 'name': 'Dewansh'}\n"
     ]
    }
   ],
   "source": [
    "dict2={\"name\":\"Dewansh\",\"age\":\"ten\",\"major\":\"computer science\"}\n",
    "sorted_keys=sorted(dict2.keys())\n",
    "sorted_dict={}\n",
    "\n",
    "for key in sorted_keys:\n",
    "    sorted_dict[key]=dict2[key]\n",
    "    \n",
    "print(sorted_dict)"
   ]
  },
  {
   "cell_type": "markdown",
   "metadata": {},
   "source": [
    "### Question 25:\n",
    "Calculate the gross salary of an employee where HRA is 0.2 of basic salary and DA is 0.8 of basic salary."
   ]
  },
  {
   "cell_type": "markdown",
   "metadata": {},
   "source": []
  },
  {
   "cell_type": "code",
   "execution_count": 27,
   "metadata": {},
   "outputs": [
    {
     "name": "stdout",
     "output_type": "stream",
     "text": [
      "200000.0\n"
     ]
    }
   ],
   "source": [
    "basic_salary=100000\n",
    "hra=0.2*basic_salary\n",
    "da=0.8*basic_salary\n",
    "gross_salary=basic_salary+hra+da\n",
    "print(gross_salary)"
   ]
  }
 ],
 "metadata": {
  "kernelspec": {
   "display_name": "Python 3",
   "language": "python",
   "name": "python3"
  },
  "language_info": {
   "codemirror_mode": {
    "name": "ipython",
    "version": 3
   },
   "file_extension": ".py",
   "mimetype": "text/x-python",
   "name": "python",
   "nbconvert_exporter": "python",
   "pygments_lexer": "ipython3",
   "version": "3.12.2"
  },
  "orig_nbformat": 4
 },
 "nbformat": 4,
 "nbformat_minor": 2
}
