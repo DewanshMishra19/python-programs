{
 "cells": [
  {
   "cell_type": "code",
   "execution_count": 1,
   "metadata": {},
   "outputs": [
    {
     "name": "stdout",
     "output_type": "stream",
     "text": [
      "Hello World\n"
     ]
    }
   ],
   "source": [
    "a=\"Hello World\"\n",
    "print(a)"
   ]
  },
  {
   "cell_type": "code",
   "execution_count": 2,
   "metadata": {},
   "outputs": [
    {
     "name": "stdout",
     "output_type": "stream",
     "text": [
      "W\n"
     ]
    }
   ],
   "source": [
    "print(a[6])"
   ]
  },
  {
   "cell_type": "code",
   "execution_count": 3,
   "metadata": {},
   "outputs": [
    {
     "name": "stdout",
     "output_type": "stream",
     "text": [
      "World\n"
     ]
    }
   ],
   "source": [
    "print(a[6:])"
   ]
  },
  {
   "cell_type": "markdown",
   "metadata": {},
   "source": [
    "#ASCII CODE"
   ]
  },
  {
   "cell_type": "code",
   "execution_count": 6,
   "metadata": {},
   "outputs": [
    {
     "name": "stdout",
     "output_type": "stream",
     "text": [
      "Y\n"
     ]
    }
   ],
   "source": [
    "c=chr(89)\n",
    "print(c)"
   ]
  },
  {
   "cell_type": "code",
   "execution_count": 9,
   "metadata": {},
   "outputs": [
    {
     "name": "stdout",
     "output_type": "stream",
     "text": [
      "}\n"
     ]
    }
   ],
   "source": [
    "d=chr(125)\n",
    "print(d)"
   ]
  },
  {
   "cell_type": "code",
   "execution_count": 10,
   "metadata": {},
   "outputs": [
    {
     "name": "stdout",
     "output_type": "stream",
     "text": [
      "71\n"
     ]
    }
   ],
   "source": [
    "#char to integer using ord funtion\n",
    "\n",
    "b=ord('G')\n",
    "print(b)"
   ]
  },
  {
   "cell_type": "code",
   "execution_count": 12,
   "metadata": {},
   "outputs": [
    {
     "name": "stdout",
     "output_type": "stream",
     "text": [
      "23\n"
     ]
    },
    {
     "data": {
      "text/plain": [
       "str"
      ]
     },
     "execution_count": 12,
     "metadata": {},
     "output_type": "execute_result"
    }
   ],
   "source": [
    "#item convert string\n",
    "\n",
    "s=str(23)\n",
    "print(s)\n",
    "type(s)"
   ]
  },
  {
   "cell_type": "markdown",
   "metadata": {},
   "source": [
    "#String Concatenation"
   ]
  },
  {
   "cell_type": "code",
   "execution_count": 14,
   "metadata": {},
   "outputs": [
    {
     "name": "stdout",
     "output_type": "stream",
     "text": [
      "hello world\n"
     ]
    }
   ],
   "source": [
    "aa=\"hello\"\n",
    "bb=\"world\"\n",
    "print(aa+\" \"+bb)"
   ]
  },
  {
   "cell_type": "code",
   "execution_count": 15,
   "metadata": {},
   "outputs": [
    {
     "name": "stdout",
     "output_type": "stream",
     "text": [
      "sum of 20 and 10 is 30\n"
     ]
    }
   ],
   "source": [
    "a=20\n",
    "b=10\n",
    "sum=a+b\n",
    "print(f\"sum of {a} and {b} is {sum}\")   # f function us used only for formating"
   ]
  },
  {
   "cell_type": "code",
   "execution_count": 19,
   "metadata": {},
   "outputs": [
    {
     "name": "stdout",
     "output_type": "stream",
     "text": [
      "hello hello hello hello hello \n"
     ]
    }
   ],
   "source": [
    "# string multiplication \n",
    "\n",
    "a=\"hello \"\n",
    "print(a*5)"
   ]
  },
  {
   "cell_type": "code",
   "execution_count": 20,
   "metadata": {},
   "outputs": [
    {
     "data": {
      "text/plain": [
       "'HEY, I AM TRYING MY BEST TO BE A GOOD DATA ANALYST'"
      ]
     },
     "execution_count": 20,
     "metadata": {},
     "output_type": "execute_result"
    }
   ],
   "source": [
    "x=\"Hey, i am trying my best to be a good data analyst\"\n",
    "x.upper()"
   ]
  },
  {
   "cell_type": "code",
   "execution_count": 21,
   "metadata": {},
   "outputs": [
    {
     "data": {
      "text/plain": [
       "'hey, i am trying my best to be a good data analyst'"
      ]
     },
     "execution_count": 21,
     "metadata": {},
     "output_type": "execute_result"
    }
   ],
   "source": [
    "x.lower()"
   ]
  },
  {
   "cell_type": "code",
   "execution_count": 22,
   "metadata": {},
   "outputs": [
    {
     "data": {
      "text/plain": [
       "'Hey, i am trying my best to be a good data analyst'"
      ]
     },
     "execution_count": 22,
     "metadata": {},
     "output_type": "execute_result"
    }
   ],
   "source": [
    "x.capitalize()"
   ]
  },
  {
   "cell_type": "code",
   "execution_count": 24,
   "metadata": {},
   "outputs": [
    {
     "data": {
      "text/plain": [
       "['you', 'are', 'phool']"
      ]
     },
     "execution_count": 24,
     "metadata": {},
     "output_type": "execute_result"
    }
   ],
   "source": [
    "str=\"you are phool\"\n",
    "str.split()"
   ]
  },
  {
   "cell_type": "code",
   "execution_count": 32,
   "metadata": {},
   "outputs": [
    {
     "name": "stdout",
     "output_type": "stream",
     "text": [
      "You Are Phool "
     ]
    }
   ],
   "source": [
    "str=[\"you\",\"are\",\"phool\"]\n",
    "for i in str :\n",
    "    print(i.capitalize(),end=\" \")"
   ]
  },
  {
   "cell_type": "code",
   "execution_count": 1,
   "metadata": {},
   "outputs": [
    {
     "name": "stdout",
     "output_type": "stream",
     "text": [
      "johny johny yes papa\n",
      "eating sugar no papa\n",
      "telling a lie no papa\n",
      "open tour mouth haha\n"
     ]
    },
    {
     "data": {
      "text/plain": [
       "['johny johny yes papa',\n",
       " 'eating sugar no papa',\n",
       " 'telling a lie no papa',\n",
       " 'open tour mouth haha']"
      ]
     },
     "execution_count": 1,
     "metadata": {},
     "output_type": "execute_result"
    }
   ],
   "source": [
    "poem= '''johny johny yes papa\n",
    "eating sugar no papa\n",
    "telling a lie no papa\n",
    "open tour mouth haha'''\n",
    "print(poem)\n",
    "poem.count('a')\n",
    "poem.splitlines()"
   ]
  },
  {
   "cell_type": "code",
   "execution_count": 37,
   "metadata": {},
   "outputs": [
    {
     "name": "stdout",
     "output_type": "stream",
     "text": [
      "johny johny yes fufaji\n",
      "eating sugar no fufaji\n",
      "telling a lie no fufaji\n",
      "open tour mouth haha\n"
     ]
    }
   ],
   "source": [
    "b=poem.replace(\"papa\",\"fufaji\")\n",
    "print(b)"
   ]
  },
  {
   "cell_type": "code",
   "execution_count": 40,
   "metadata": {},
   "outputs": [
    {
     "name": "stdout",
     "output_type": "stream",
     "text": [
      "johny johny yes fufa\n",
      "eating poison yes fufa\n",
      "telling a lie yes fufa\n",
      "open tour mouth haha\n"
     ]
    }
   ],
   "source": [
    "b=poem.replace(\"papa\",\"fufa\").replace(\"sugar\",\"poison\").replace(\"no\",\"yes\")\n",
    "print(b)"
   ]
  },
  {
   "cell_type": "code",
   "execution_count": 45,
   "metadata": {},
   "outputs": [
    {
     "data": {
      "text/plain": [
       "28"
      ]
     },
     "execution_count": 45,
     "metadata": {},
     "output_type": "execute_result"
    }
   ],
   "source": [
    "b.find(\"poison\")"
   ]
  },
  {
   "cell_type": "code",
   "execution_count": 47,
   "metadata": {},
   "outputs": [
    {
     "name": "stdout",
     "output_type": "stream",
     "text": [
      "D:/Users/Newfolder/documents/download\n"
     ]
    }
   ],
   "source": [
    "# to convert many strings in one string\n",
    "\n",
    "path=[\"D:\",\"Users\",\"Newfolder\",\"documents\",\"download\"]\n",
    "print('/'.join(path))"
   ]
  },
  {
   "cell_type": "markdown",
   "metadata": {},
   "source": [
    "#Dictionary"
   ]
  },
  {
   "cell_type": "code",
   "execution_count": 1,
   "metadata": {},
   "outputs": [
    {
     "name": "stdout",
     "output_type": "stream",
     "text": [
      "{'name': 'Dewansh', 'class': '10th', 'section': 'A', 'roll no': 4, 'marks': 100}\n"
     ]
    }
   ],
   "source": [
    "students={\"name\":\"Dewansh\",\"class\":\"10th\",\"section\":\"A\",\"roll no\":4,\"marks\":100}\n",
    "print(students)"
   ]
  },
  {
   "cell_type": "code",
   "execution_count": 2,
   "metadata": {},
   "outputs": [
    {
     "name": "stdout",
     "output_type": "stream",
     "text": [
      "Dewansh\n"
     ]
    }
   ],
   "source": [
    "# method 1st\n",
    "\n",
    "print(students['name'])"
   ]
  },
  {
   "cell_type": "code",
   "execution_count": 3,
   "metadata": {},
   "outputs": [
    {
     "name": "stdout",
     "output_type": "stream",
     "text": [
      "4\n"
     ]
    }
   ],
   "source": [
    "print(students['roll no'])"
   ]
  },
  {
   "cell_type": "code",
   "execution_count": 4,
   "metadata": {},
   "outputs": [
    {
     "name": "stdout",
     "output_type": "stream",
     "text": [
      "Dewansh\n",
      "4\n"
     ]
    }
   ],
   "source": [
    "#2nd method \n",
    "print(students.get('name'))\n",
    "print(students.get(\"roll no\"))"
   ]
  },
  {
   "cell_type": "code",
   "execution_count": 5,
   "metadata": {},
   "outputs": [
    {
     "name": "stdout",
     "output_type": "stream",
     "text": [
      "{'name': 'Dewansh', 'class': '10th', 'section': 'A', 'roll no': 4, 'marks': 100, 'age': 22, 'address': 'california', 'phone number': 7392880219}\n"
     ]
    }
   ],
   "source": [
    "# to add items in a dictionary\n",
    "\n",
    "students['age']=22\n",
    "students['address']=\"california\"\n",
    "students['phone number']=7392880219\n",
    "print(students)"
   ]
  },
  {
   "cell_type": "code",
   "execution_count": 6,
   "metadata": {},
   "outputs": [
    {
     "name": "stdout",
     "output_type": "stream",
     "text": [
      "name\n",
      "class\n",
      "section\n",
      "roll no\n",
      "marks\n",
      "age\n",
      "address\n",
      "phone number\n"
     ]
    }
   ],
   "source": [
    "for key in students:\n",
    "    print(key)"
   ]
  },
  {
   "cell_type": "code",
   "execution_count": 10,
   "metadata": {},
   "outputs": [
    {
     "name": "stdout",
     "output_type": "stream",
     "text": [
      "Dewansh\n",
      "10th\n",
      "A\n",
      "4\n",
      "100\n",
      "22\n",
      "california\n",
      "7392880219\n"
     ]
    }
   ],
   "source": [
    "for value in students:\n",
    "    print(students[value])"
   ]
  },
  {
   "cell_type": "code",
   "execution_count": 16,
   "metadata": {},
   "outputs": [
    {
     "name": "stdout",
     "output_type": "stream",
     "text": [
      "name : Dewansh\n",
      "class : 10th\n",
      "section : A\n",
      "roll no : 4\n",
      "marks : 100\n",
      "age : 22\n",
      "address : california\n",
      "phone number : 7392880219\n"
     ]
    }
   ],
   "source": [
    "for key,value in students.items():\n",
    "    print(f'{key} : {value}')         #print(key,value) also be done"
   ]
  },
  {
   "cell_type": "code",
   "execution_count": 17,
   "metadata": {},
   "outputs": [
    {
     "name": "stdout",
     "output_type": "stream",
     "text": [
      "{'emp001': {'name': 'Dewansh', 'age': 23, 'salary': 1500000, 'dept': 'DA'}, 'emp002': {'name': 'shivam', 'age': 24, 'salary': 100000, 'dept': 'HR'}, 'emp003': {'name': 'shrey', 'age': 25, 'salary': 15000, 'dept': 'AI'}, 'emp004': {'name': 'rahul', 'age': 21, 'salary': 150000, 'dept': 'marketing'}}\n"
     ]
    }
   ],
   "source": [
    "company={\n",
    "    'emp001' : {\"name\":\"Dewansh\",\"age\":23,\"salary\":1500000,\"dept\":\"DA\"},\n",
    "    'emp002' : {\"name\":\"shivam\",\"age\":24,\"salary\":100000,\"dept\":\"HR\"},\n",
    "    'emp003' : {\"name\":\"shrey\",\"age\":25,\"salary\":15000,\"dept\":\"AI\"},\n",
    "    'emp004' : {\"name\":\"rahul\",\"age\":21,\"salary\":150000,\"dept\":\"marketing\"}\n",
    "    }\n",
    "print(company)"
   ]
  },
  {
   "cell_type": "code",
   "execution_count": 18,
   "metadata": {},
   "outputs": [
    {
     "name": "stdout",
     "output_type": "stream",
     "text": [
      "{'name': 'Dewansh', 'age': 23, 'salary': 1500000, 'dept': 'DA'}\n"
     ]
    }
   ],
   "source": [
    "print(company['emp001'])"
   ]
  },
  {
   "cell_type": "code",
   "execution_count": 19,
   "metadata": {},
   "outputs": [
    {
     "name": "stdout",
     "output_type": "stream",
     "text": [
      "Dewansh\n"
     ]
    }
   ],
   "source": [
    "print(company['emp001']['name'])"
   ]
  },
  {
   "cell_type": "code",
   "execution_count": 20,
   "metadata": {},
   "outputs": [
    {
     "name": "stdout",
     "output_type": "stream",
     "text": [
      "{'emp001': {'name': 'Dewansh', 'age': 23, 'salary': 1500000, 'dept': 'DA'}, 'emp002': {'name': 'shivam', 'age': 24, 'salary': 100000, 'dept': 'HR'}, 'emp003': {'name': 'shrey', 'age': 25, 'salary': 15000, 'dept': 'AI'}, 'emp004': {'name': 'rahul', 'age': 21, 'salary': 150000, 'dept': 'marketing'}, 'emp005': {'name': 'Rajeev', 'age': 22, 'salary': 20000, 'dept': 'Software developer'}}\n"
     ]
    }
   ],
   "source": [
    "# to add data of 5th employee in the company data\n",
    "\n",
    "company['emp005'] = {\"name\":\"Rajeev\",\"age\":22,\"salary\":20000, \"dept\":\"Software developer\"}\n",
    "print(company)\n"
   ]
  },
  {
   "cell_type": "code",
   "execution_count": null,
   "metadata": {},
   "outputs": [],
   "source": []
  }
 ],
 "metadata": {
  "kernelspec": {
   "display_name": "base",
   "language": "python",
   "name": "python3"
  },
  "language_info": {
   "codemirror_mode": {
    "name": "ipython",
    "version": 3
   },
   "file_extension": ".py",
   "mimetype": "text/x-python",
   "name": "python",
   "nbconvert_exporter": "python",
   "pygments_lexer": "ipython3",
   "version": "3.12.2"
  }
 },
 "nbformat": 4,
 "nbformat_minor": 2
}
