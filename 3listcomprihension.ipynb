{
 "cells": [
  {
   "cell_type": "code",
   "execution_count": 2,
   "metadata": {},
   "outputs": [
    {
     "name": "stdout",
     "output_type": "stream",
     "text": [
      "[4, 16, 36, 790121876544, 100]\n"
     ]
    }
   ],
   "source": [
    "num=[2,4,6,888888,10]\n",
    "sq=[x**2 for x in num]\n",
    "print(sq)"
   ]
  },
  {
   "cell_type": "code",
   "execution_count": 6,
   "metadata": {},
   "outputs": [
    {
     "name": "stdout",
     "output_type": "stream",
     "text": [
      "[2, 4, 6, 8, 10, 12, 14, 16]\n"
     ]
    }
   ],
   "source": [
    "num1=[1,2,3,4,5,6,7,8,9,10,11,12,13,14,15,16,17]\n",
    "even_num1=[x for x in num1 if x%2==0]\n",
    "print(even_num1)"
   ]
  },
  {
   "cell_type": "code",
   "execution_count": 1,
   "metadata": {},
   "outputs": [
    {
     "name": "stdout",
     "output_type": "stream",
     "text": [
      "['grapes', 'papaya', 'banana']\n"
     ]
    }
   ],
   "source": [
    "fruits=['apple','oranges','guava','grapes','papaya','kiwi','mango','banana']\n",
    "new_fruits=[x for x in fruits if len(x)==6]\n",
    "print(new_fruits)"
   ]
  },
  {
   "cell_type": "code",
   "execution_count": 4,
   "metadata": {},
   "outputs": [
    {
     "name": "stdout",
     "output_type": "stream",
     "text": [
      "[1, 2, 3, 4, 5, 6, 7, 8, 9] = Dewansh\n"
     ]
    }
   ],
   "source": [
    "name=[i for i in range(1,10)]\n",
    "print(name ,\"=\",\"Dewansh\")"
   ]
  },
  {
   "cell_type": "code",
   "execution_count": 7,
   "metadata": {},
   "outputs": [
    {
     "name": "stdout",
     "output_type": "stream",
     "text": [
      "['o']\n"
     ]
    }
   ],
   "source": [
    "word=\"python\"\n",
    "vowels=['a','e','i','o','u']\n",
    "results=[i for i in word if i in vowels]\n",
    "print(results)"
   ]
  },
  {
   "cell_type": "code",
   "execution_count": 12,
   "metadata": {},
   "outputs": [
    {
     "name": "stdout",
     "output_type": "stream",
     "text": [
      "['chandigarh', 'shimla', 'mumbai', 'lucknow', 'dehra dun', 'indore']\n",
      "['apple', 'grapes', 'banana']\n"
     ]
    }
   ],
   "source": [
    "#write a program of pyhton that takes a list of strings as input and returns a new list containing only the the strings with the length greate than 5\n",
    "#suppose you have a list fruits. wap to code to remove  the elements 'oranges' from the list\n",
    "# wap to code that takes a list of integers as input and return a new list with only the even numbers from the priginal list\n",
    "\n",
    "\n",
    "\n",
    "city=[\"chandigarh\", \"shimla\",\"mumbai\",\"lucknow\",\"dehra dun\",\"indore\",\"delhi\",\"pune\"]\n",
    "new_city=[i for i in city if len(i)>5]\n",
    "print(new_city)\n",
    "\n",
    "\n",
    "fruit=['apple','oranges','grapes','banana']\n",
    "fruit.remove('oranges')\n",
    "print(fruit)\n",
    "\n"
   ]
  }
 ],
 "metadata": {
  "kernelspec": {
   "display_name": "base",
   "language": "python",
   "name": "python3"
  },
  "language_info": {
   "codemirror_mode": {
    "name": "ipython",
    "version": 3
   },
   "file_extension": ".py",
   "mimetype": "text/x-python",
   "name": "python",
   "nbconvert_exporter": "python",
   "pygments_lexer": "ipython3",
   "version": "3.12.2"
  }
 },
 "nbformat": 4,
 "nbformat_minor": 2
}
