{
 "cells": [
  {
   "cell_type": "code",
   "execution_count": 1,
   "metadata": {},
   "outputs": [
    {
     "name": "stdout",
     "output_type": "stream",
     "text": [
      "Hello world\n"
     ]
    }
   ],
   "source": [
    "print(\"Hello world\")"
   ]
  },
  {
   "cell_type": "code",
   "execution_count": 9,
   "metadata": {},
   "outputs": [
    {
     "name": "stdout",
     "output_type": "stream",
     "text": [
      "[1, 2, 3, 46, 78, 4]\n",
      "<class 'list'>\n",
      "(2, 3, 45, 6, 2)\n",
      "<class 'tuple'>\n",
      "{1, 2, 3, 4, 5, 6}\n",
      "<class 'set'>\n",
      "{'name': 'dewansh', 'age': 23}\n",
      "<class 'dict'>\n"
     ]
    },
    {
     "data": {
      "text/plain": [
       "str"
      ]
     },
     "execution_count": 9,
     "metadata": {},
     "output_type": "execute_result"
    }
   ],
   "source": [
    "list1=[1,2,3,46,78,4]\n",
    "print(list1)\n",
    "print(type(list1))\n",
    "\n",
    "tuple1=(2,3,45,6,2)\n",
    "print(tuple1)\n",
    "print(type(tuple1))\n",
    "\n",
    "set1={1,2,3,4,5,6,6}\n",
    "print(set1)\n",
    "print(type(set1))\n",
    "\n",
    "\n",
    "dict1={\"name\":\"dewansh\",\"age\":23}\n",
    "print(dict1)\n",
    "print(type(dict1))\n",
    "type(dict1)\n",
    "\n",
    "name=\"dewansh\"\n",
    "type(name)\n"
   ]
  },
  {
   "cell_type": "code",
   "execution_count": 11,
   "metadata": {},
   "outputs": [
    {
     "name": "stdout",
     "output_type": "stream",
     "text": [
      "154.0\n"
     ]
    }
   ],
   "source": [
    "#calc the area of circle\n",
    "\n",
    "r=7\n",
    "area=(22/7)*r*r\n",
    "print(area)\n"
   ]
  },
  {
   "cell_type": "code",
   "execution_count": 2,
   "metadata": {},
   "outputs": [
    {
     "name": "stdout",
     "output_type": "stream",
     "text": [
      "57500\n"
     ]
    }
   ],
   "source": [
    "#calc the gross salary \n",
    "\n",
    "basic_salary=50000\n",
    "hra=(5/100)*basic_salary\n",
    "da=basic_salary/10\n",
    "gross_salary=basic_salary+hra+da\n",
    "gross_salary=int(gross_salary)\n",
    "print(gross_salary)"
   ]
  },
  {
   "cell_type": "code",
   "execution_count": 15,
   "metadata": {},
   "outputs": [
    {
     "name": "stdout",
     "output_type": "stream",
     "text": [
      "Eligible for vote\n"
     ]
    }
   ],
   "source": [
    "age=int(input(\"Enter your age\"))\n",
    "if(age>=18):\n",
    "    print(\"Eligible for vote\")\n",
    "else:\n",
    "    print(\"Not eligible for vote\")"
   ]
  },
  {
   "cell_type": "code",
   "execution_count": 16,
   "metadata": {},
   "outputs": [
    {
     "name": "stdout",
     "output_type": "stream",
     "text": [
      "trianlge is isoceles\n"
     ]
    }
   ],
   "source": [
    "side1=int(input(\"Enter a side one\"))\n",
    "side2=int(input(\"Enter a side two\"))\n",
    "side3=int(input(\"Enter a side third\"))\n",
    "if(side1==side2 and side2==side3):\n",
    "    print(\"tringle is equilateral\")\n",
    "else:\n",
    "    print(\"trianlge is isoceles\")"
   ]
  },
  {
   "cell_type": "code",
   "execution_count": 1,
   "metadata": {},
   "outputs": [
    {
     "name": "stdout",
     "output_type": "stream",
     "text": [
      "vowel\n"
     ]
    }
   ],
   "source": [
    "\n",
    "list1=[\"a\",\"e\",\"i\",\"o\",\"u\"]\n",
    "c=input(\"Enter a character\")\n",
    "if c in list1:\n",
    "    print(\"vowel\")\n",
    "else:\n",
    "    print(\"not vowel\")"
   ]
  },
  {
   "cell_type": "markdown",
   "metadata": {},
   "source": [
    "NESTED IF\n"
   ]
  },
  {
   "cell_type": "code",
   "execution_count": 4,
   "metadata": {},
   "outputs": [
    {
     "name": "stdout",
     "output_type": "stream",
     "text": [
      "x is greater than 5 but y is less than 2\n"
     ]
    }
   ],
   "source": [
    "x=6\n",
    "y=1\n",
    "if x>5:\n",
    "    if y>2:\n",
    "        print(\"both the condition are greater than 5 and 2\")\n",
    "    else:\n",
    "        print(\"x is greater than 5 but y is less than 2\")\n",
    "else:\n",
    "    print(\"x is not greater than 5\")"
   ]
  },
  {
   "cell_type": "code",
   "execution_count": 6,
   "metadata": {},
   "outputs": [
    {
     "name": "stdout",
     "output_type": "stream",
     "text": [
      "Wrong email entered🤷‍♀️\n"
     ]
    }
   ],
   "source": [
    "username=input(\"Enter the username\")\n",
    "email=input(\"Enter a email\")\n",
    "pwd=input(\"Enter a password\")\n",
    "pwd2=input(\"Enter a password again\")\n",
    "if len(username)>=4 and len(username)<=15:\n",
    "    if \"@gmail.com\" in email and len(email)>0:\n",
    "        if pwd==pwd2:\n",
    "            print(\"Account is created successfully 😁\")\n",
    "        else:\n",
    "            print(\"password doesn't match😒\")\n",
    "    else:\n",
    "         print(\"Wrong email entered🤷‍♀️\")\n",
    "else:\n",
    "    print(\"Wrong username intered😢\")   "
   ]
  },
  {
   "cell_type": "markdown",
   "metadata": {},
   "source": [
    "loops\n"
   ]
  },
  {
   "cell_type": "code",
   "execution_count": 7,
   "metadata": {},
   "outputs": [
    {
     "name": "stdout",
     "output_type": "stream",
     "text": [
      "2\n",
      "3\n",
      "4\n",
      "5\n",
      "6\n",
      "7\n",
      "8\n"
     ]
    }
   ],
   "source": [
    "a=[2,3,4,5,6,7,8]\n",
    "for i in a:\n",
    "    print(i)"
   ]
  },
  {
   "cell_type": "code",
   "execution_count": 9,
   "metadata": {},
   "outputs": [
    {
     "name": "stdout",
     "output_type": "stream",
     "text": [
      "2 3 4 5 6 7 8 "
     ]
    }
   ],
   "source": [
    "a=[2,3,4,5,6,7,8]\n",
    "for i in a:\n",
    "    print(i, end=\" \")    #important line for printing a list in one line we use end function "
   ]
  },
  {
   "cell_type": "code",
   "execution_count": 13,
   "metadata": {},
   "outputs": [
    {
     "name": "stdout",
     "output_type": "stream",
     "text": [
      "h\n",
      "e\n",
      "l\n",
      "l\n",
      "o\n",
      " \n",
      "w\n",
      "o\n",
      "r\n",
      "l\n",
      "d\n"
     ]
    }
   ],
   "source": [
    "b=\"hello world\"\n",
    "for x in b:\n",
    "    print(x)"
   ]
  },
  {
   "cell_type": "code",
   "execution_count": 15,
   "metadata": {},
   "outputs": [
    {
     "name": "stdout",
     "output_type": "stream",
     "text": [
      "dewansh\n",
      "dewansh\n",
      "dewansh\n",
      "dewansh\n",
      "dewansh\n",
      "dewansh\n",
      "dewansh\n",
      "dewansh\n",
      "dewansh\n",
      "dewansh\n",
      "dewansh\n"
     ]
    }
   ],
   "source": [
    "for i in range(11):\n",
    "    print(\"dewansh\")"
   ]
  },
  {
   "cell_type": "code",
   "execution_count": 1,
   "metadata": {},
   "outputs": [
    {
     "name": "stdout",
     "output_type": "stream",
     "text": [
      "hello world 7\n"
     ]
    }
   ],
   "source": [
    "print(\"hello world\", 7)"
   ]
  },
  {
   "cell_type": "code",
   "execution_count": 3,
   "metadata": {},
   "outputs": [
    {
     "name": "stdout",
     "output_type": "stream",
     "text": [
      "hey i am \"good boy\"\n",
      " and this viewer is also good boy\n"
     ]
    }
   ],
   "source": [
    "'''\n",
    "hey i am here\n",
    "where are you\n",
    "'''\n",
    "print(\"hey i am \\\"good boy\\\" \\n and this viewer is also good boy\")"
   ]
  },
  {
   "cell_type": "code",
   "execution_count": 8,
   "metadata": {},
   "outputs": [
    {
     "name": "stdout",
     "output_type": "stream",
     "text": [
      "hey~6~7\n"
     ]
    }
   ],
   "source": [
    "print(\"hey\",6,7,sep=\"~\")"
   ]
  },
  {
   "cell_type": "code",
   "execution_count": 14,
   "metadata": {},
   "outputs": [
    {
     "name": "stdout",
     "output_type": "stream",
     "text": [
      "<class 'complex'>\n"
     ]
    }
   ],
   "source": [
    "a=111111\n",
    "b=\"dewansh\"\n",
    "c=complex(4,4)\n",
    "print(type(c))"
   ]
  },
  {
   "cell_type": "code",
   "execution_count": 16,
   "metadata": {},
   "outputs": [
    {
     "name": "stdout",
     "output_type": "stream",
     "text": [
      "2\n"
     ]
    }
   ],
   "source": [
    "# a=\"1\"\n",
    "a=1\n",
    "# b=\"1\"\n",
    "b=1\n",
    "print(a+b)"
   ]
  },
  {
   "cell_type": "code",
   "execution_count": 2,
   "metadata": {},
   "outputs": [
    {
     "name": "stdout",
     "output_type": "stream",
     "text": [
      "dewanhsyadavshukla\n"
     ]
    }
   ],
   "source": [
    "name=\"dewanhs\"\n",
    "friend1=\"yadav\"\n",
    "friend2=\"shukla\"\n",
    "print(name+ friend1+ friend2)"
   ]
  },
  {
   "cell_type": "markdown",
   "metadata": {},
   "source": [
    "slicing of string"
   ]
  },
  {
   "cell_type": "code",
   "execution_count": 4,
   "metadata": {},
   "outputs": [
    {
     "name": "stdout",
     "output_type": "stream",
     "text": [
      "13\n",
      "dewansh\n",
      "13\n",
      "dewansh,\n",
      "wansh,\n",
      "pi\n"
     ]
    }
   ],
   "source": [
    "names=\"dewansh,vipin\"\n",
    "length=len(names)\n",
    "print(len(names))\n",
    "print(names[0:7])\n",
    "print(length)\n",
    "print(names[0:-5])  #last 5 are not included\n",
    "print(names[2:8])\n",
    "print(names[-3:-1])\n"
   ]
  },
  {
   "cell_type": "code",
   "execution_count": 10,
   "metadata": {},
   "outputs": [
    {
     "data": {
      "text/plain": [
       "'wansh,vipin'"
      ]
     },
     "execution_count": 10,
     "metadata": {},
     "output_type": "execute_result"
    }
   ],
   "source": [
    "size=len(names)\n",
    "names[2:size]"
   ]
  },
  {
   "cell_type": "code",
   "execution_count": 11,
   "metadata": {},
   "outputs": [
    {
     "data": {
      "text/plain": [
       "''"
      ]
     },
     "execution_count": 11,
     "metadata": {},
     "output_type": "execute_result"
    }
   ],
   "source": [
    "names[1:-3:-1]"
   ]
  },
  {
   "cell_type": "code",
   "execution_count": 12,
   "metadata": {},
   "outputs": [
    {
     "data": {
      "text/plain": [
       "'nipiv,hsnawed'"
      ]
     },
     "execution_count": 12,
     "metadata": {},
     "output_type": "execute_result"
    }
   ],
   "source": [
    "names[::-1]"
   ]
  },
  {
   "cell_type": "code",
   "execution_count": 6,
   "metadata": {},
   "outputs": [
    {
     "name": "stdout",
     "output_type": "stream",
     "text": [
      "19\n",
      "HEY I AM DEWANSH!!!\n",
      "hey i am dewansh!!!\n",
      "hey i am dewansh\n",
      "hey i am sachin!!!\n",
      "['hey', 'i', 'am', 'dewansh!!!']\n",
      "Hey i am dewansh!!!\n",
      "1\n"
     ]
    }
   ],
   "source": [
    "c=\"hey i am dewansh!!!\"\n",
    "print(len(c))\n",
    "print(c.upper())  #upper case \n",
    "print(c.lower())\n",
    "print(c.rstrip(\"!\"))   # rstrip remove the eclaimation marks(!)\n",
    "print(c.replace(\"dewansh\",\"sachin\"))  #. replace function raplces the past string\n",
    "print(c.split(\" \"))   #.split convert the string into list\n",
    "print(c.capitalize())\n",
    "print(c.count(\"dewansh\"))\n"
   ]
  },
  {
   "cell_type": "code",
   "execution_count": 8,
   "metadata": {},
   "outputs": [
    {
     "name": "stdout",
     "output_type": "stream",
     "text": [
      "24\n",
      "             welcome to the console!!             \n",
      "True\n",
      "8\n",
      "8\n",
      "-1\n",
      "True\n",
      "True\n",
      "False\n",
      "WELCOME TO THE CONSOLE!!\n",
      "Welcome To The Console!!\n"
     ]
    }
   ],
   "source": [
    "str1=\"welcome to the console!!\"\n",
    "print(len(str1))\n",
    "print(str1.center(50))\n",
    "print(str1.endswith(\"!!\"))\n",
    "print(str1.find(\"to\"))\n",
    "print(str1.index(\"to\"))\n",
    "print(str1.find(\"too\"))\n",
    "print(str1.islower())\n",
    "print(str1.isprintable())  #\\n is not a printable\n",
    "print(str1.istitle())  #every word should starts with capital leter then it return true statement\n",
    "print(str1.swapcase())  #converts to small to capital and vice versa\n",
    "print(str1.title())  #covert first character of word into upper case"
   ]
  },
  {
   "cell_type": "code",
   "execution_count": 1,
   "metadata": {},
   "outputs": [
    {
     "name": "stdout",
     "output_type": "stream",
     "text": [
      "2\n"
     ]
    }
   ],
   "source": [
    "for i in range(4):\n",
    " if i==2:\n",
    "   print(i)\n",
    "   i=10"
   ]
  },
  {
   "cell_type": "code",
   "execution_count": 2,
   "metadata": {},
   "outputs": [
    {
     "name": "stdout",
     "output_type": "stream",
     "text": [
      "69\n"
     ]
    }
   ],
   "source": [
    "for x in range(10):\n",
    "       if x == 6:\n",
    "           print(x,end=\"\")\n",
    "print(x)"
   ]
  },
  {
   "cell_type": "code",
   "execution_count": 5,
   "metadata": {},
   "outputs": [
    {
     "name": "stdout",
     "output_type": "stream",
     "text": [
      "['D', 'a', 't', 'a', ' ', 'S', 'c', 'i', 'e', 'n', 'c']\n"
     ]
    }
   ],
   "source": [
    "word = \"Scaler Data Science Course\"\n",
    "word_list = list(word)\n",
    "print(word_list[7:18])"
   ]
  },
  {
   "cell_type": "code",
   "execution_count": null,
   "metadata": {},
   "outputs": [],
   "source": []
  },
  {
   "cell_type": "code",
   "execution_count": 7,
   "metadata": {},
   "outputs": [
    {
     "name": "stdout",
     "output_type": "stream",
     "text": [
      "['Jadeja', 'Rahul', 'Rohit', 'dhoni', 'virat']\n"
     ]
    }
   ],
   "source": [
    "players = ['Jadeja','Rahul','Rohit']\n",
    "players+=['dhoni','virat']\n",
    "print(players)"
   ]
  },
  {
   "cell_type": "code",
   "execution_count": 8,
   "metadata": {},
   "outputs": [
    {
     "name": "stdout",
     "output_type": "stream",
     "text": [
      "('Item_1', 0.5, ['Vijay', 'Vickey', 'Vishal'])\n"
     ]
    }
   ],
   "source": [
    "name_lst = [\"Vijay\", \"Vickey\"]\n",
    "tup = (\"Item_1\", 0.5, name_lst)\n",
    "name_lst.append(\"Vishal\")\n",
    "print(tup)"
   ]
  },
  {
   "cell_type": "code",
   "execution_count": 9,
   "metadata": {},
   "outputs": [
    {
     "name": "stdout",
     "output_type": "stream",
     "text": [
      "(30, 40, 50) (10, 20, 30, 40) (40, 50, 60, 70, 80)\n"
     ]
    }
   ],
   "source": [
    "elements = (10, 20, 30, 40, 50, 60, 70, 80)\n",
    "print(elements[2:5], elements[:4], elements[3:100])"
   ]
  },
  {
   "cell_type": "code",
   "execution_count": 1,
   "metadata": {},
   "outputs": [
    {
     "name": "stdout",
     "output_type": "stream",
     "text": [
      "This is not a member of the dictionary\n"
     ]
    }
   ],
   "source": [
    "dict1 = {'age': 35, 'name': 'abc', 'salary': 45000}\n",
    "\n",
    "val = dict1['age']\n",
    "\n",
    "if val in dict1:\n",
    "    print('This is a member of the dictionary')\n",
    "else:\n",
    "    print('This is not a member of the dictionary')"
   ]
  },
  {
   "cell_type": "code",
   "execution_count": 3,
   "metadata": {},
   "outputs": [
    {
     "name": "stdout",
     "output_type": "stream",
     "text": [
      "{'student1': {'name': 'yash', 'salary': 7500}, 'student2': {'name': 'heet', 'salary': 8000}, 'student3': {'name': 'smit', 'salary': 8500}}\n"
     ]
    }
   ],
   "source": [
    "freshers = {\n",
    "    'student1': {'name': 'yash', 'salary': 7500},\n",
    "    'student2': {'name': 'heet', 'salary': 8000},\n",
    "    'student3': {'name':'smit', 'salary': 6500}\n",
    "}\n",
    "freshers['student3']['salary'] = 8500\n",
    "print(freshers)"
   ]
  },
  {
   "cell_type": "code",
   "execution_count": 4,
   "metadata": {},
   "outputs": [
    {
     "name": "stdout",
     "output_type": "stream",
     "text": [
      "{'Sheldon': 1, 'Leonard': 2, 'Penny': 2}\n"
     ]
    }
   ],
   "source": [
    "bbt = {'Sheldon': 1, 'Leonard': 2}\n",
    "bbt.update({'Penny': 2})\n",
    "print(bbt)"
   ]
  },
  {
   "cell_type": "code",
   "execution_count": 8,
   "metadata": {},
   "outputs": [
    {
     "name": "stdout",
     "output_type": "stream",
     "text": [
      "8\n"
     ]
    }
   ],
   "source": [
    "set1 = {1, 2, 4}\n",
    "set2 = {4, 5, 6}\n",
    "print(len('set1' + 'set2'))\n"
   ]
  },
  {
   "cell_type": "code",
   "execution_count": 13,
   "metadata": {},
   "outputs": [
    {
     "name": "stdout",
     "output_type": "stream",
     "text": [
      "{1, 2, 3, 4, 5}\n"
     ]
    }
   ],
   "source": [
    "sets = {3, 4, 5}\n",
    "#sets.update([1, 2, 3])\n",
    "sets = sets.union({1, 2, 3})\n",
    "print(sets)"
   ]
  },
  {
   "cell_type": "code",
   "execution_count": 12,
   "metadata": {},
   "outputs": [
    {
     "ename": "TypeError",
     "evalue": "'set' object does not support item assignment",
     "output_type": "error",
     "traceback": [
      "\u001b[1;31m---------------------------------------------------------------------------\u001b[0m",
      "\u001b[1;31mTypeError\u001b[0m                                 Traceback (most recent call last)",
      "Cell \u001b[1;32mIn[12], line 2\u001b[0m\n\u001b[0;32m      1\u001b[0m a\u001b[38;5;241m=\u001b[39m{\u001b[38;5;124m'\u001b[39m\u001b[38;5;124mAurn\u001b[39m\u001b[38;5;124m'\u001b[39m, \u001b[38;5;124m'\u001b[39m\u001b[38;5;124mNikhil\u001b[39m\u001b[38;5;124m'\u001b[39m, \u001b[38;5;124m'\u001b[39m\u001b[38;5;124mSeeta\u001b[39m\u001b[38;5;124m'\u001b[39m}\n\u001b[1;32m----> 2\u001b[0m \u001b[43ma\u001b[49m\u001b[43m[\u001b[49m\u001b[38;5;241;43m0\u001b[39;49m\u001b[43m]\u001b[49m\u001b[38;5;241m=\u001b[39m \u001b[38;5;124m'\u001b[39m\u001b[38;5;124mArun\u001b[39m\u001b[38;5;124m'\u001b[39m\n\u001b[0;32m      3\u001b[0m \u001b[38;5;28mprint\u001b[39m(a)\n",
      "\u001b[1;31mTypeError\u001b[0m: 'set' object does not support item assignment"
     ]
    }
   ],
   "source": [
    "a={'Aurn', 'Nikhil', 'Seeta'}\n",
    "a[0]= 'Arun'\n",
    "print(a)"
   ]
  }
 ],
 "metadata": {
  "kernelspec": {
   "display_name": "base",
   "language": "python",
   "name": "python3"
  },
  "language_info": {
   "codemirror_mode": {
    "name": "ipython",
    "version": 3
   },
   "file_extension": ".py",
   "mimetype": "text/x-python",
   "name": "python",
   "nbconvert_exporter": "python",
   "pygments_lexer": "ipython3",
   "version": "3.12.2"
  }
 },
 "nbformat": 4,
 "nbformat_minor": 2
}
